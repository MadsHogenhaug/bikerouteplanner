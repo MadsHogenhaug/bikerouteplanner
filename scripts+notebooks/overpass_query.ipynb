{
 "cells": [
  {
   "cell_type": "code",
   "execution_count": 1,
   "metadata": {},
   "outputs": [
    {
     "name": "stdout",
     "output_type": "stream",
     "text": [
      "{'version': 0.6, 'generator': 'Overpass API 0.7.62.5 1bd436f1', 'osm3s': {'timestamp_osm_base': '2025-02-27T14:31:59Z', 'timestamp_areas_base': '2024-12-31T00:49:33Z', 'copyright': 'The data included in this document is from www.openstreetmap.org. The data is made available under ODbL.'}, 'elements': [{'type': 'node', 'id': 1114114313, 'lat': -34.9601655, 'lon': 117.3562328, 'tags': {'addr:housenumber': '36', 'addr:state': 'WA', 'addr:street': 'Hollings Road', 'addr:suburb': 'Denmark', 'name': 'Denmark Hotel and River Rooms', 'tourism': 'hotel', 'website': 'https://www.denmarkhotel.com.au'}}, {'type': 'way', 'id': 830834739, 'center': {'lat': 33.3262226, 'lon': -81.1250633}, 'nodes': [7757265266, 7757265265, 7757265264, 7757265263, 7757265262, 7757265261, 7757265260, 7757265259, 7757265266], 'tags': {'addr:city': 'Denmark', 'addr:housenumber': '17688', 'addr:postcode': '29042', 'addr:state': 'SC', 'addr:street': 'Heritage Highway', 'building': 'yes', 'name': 'Carolina Inn', 'payment:american_express': 'yes', 'payment:cheque': 'no', 'payment:mastercard': 'yes', 'payment:visa': 'yes', 'tourism': 'hotel'}}, {'type': 'way', 'id': 1172889822, 'center': {'lat': -34.9842299, 'lon': 117.3530522}, 'nodes': [10897826843, 10897826844, 10897826845, 10897826846, 10897826843], 'tags': {'addr:housenumber': '28', 'addr:street': 'Anning Road', 'building': 'yes', 'check_date:currency:XBT': '2022-11-14', 'currency:XBT': 'yes', 'name': 'Aiyana Retreat', 'tourism': 'hotel', 'website': 'https://aiyanaretreat.com.au/'}}]}\n"
     ]
    }
   ],
   "source": [
    "import requests\n",
    "\n",
    "overpass_url = \"https://overpass-api.de/api/interpreter\"\n",
    "query = \"\"\"\n",
    "[out:json][timeout:180];\n",
    "area[\"ISO3166-1\"=\"DK\"]->.denmark;\n",
    "(\n",
    "  node[\"tourism\"=\"hotel\"](area.denmark);\n",
    "  way[\"tourism\"=\"hotel\"](area.denmark);\n",
    "  relation[\"tourism\"=\"hotel\"](area.denmark);\n",
    ");\n",
    "out center;\n",
    "\"\"\"\n",
    "\n",
    "response = requests.get(overpass_url, params={'data': query})\n",
    "data = response.json()\n",
    "\n",
    "print(data)\n"
   ]
  }
 ],
 "metadata": {
  "kernelspec": {
   "display_name": "latest",
   "language": "python",
   "name": "python3"
  },
  "language_info": {
   "codemirror_mode": {
    "name": "ipython",
    "version": 3
   },
   "file_extension": ".py",
   "mimetype": "text/x-python",
   "name": "python",
   "nbconvert_exporter": "python",
   "pygments_lexer": "ipython3",
   "version": "3.12.7"
  }
 },
 "nbformat": 4,
 "nbformat_minor": 2
}
